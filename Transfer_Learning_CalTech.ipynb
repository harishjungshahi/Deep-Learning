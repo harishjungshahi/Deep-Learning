{
  "cells": [
    {
      "cell_type": "markdown",
      "metadata": {
        "id": "view-in-github",
        "colab_type": "text"
      },
      "source": [
        "<a href=\"https://colab.research.google.com/github/harishjungshahi/Deep-Learning/blob/main/Transfer_Learning_CalTech.ipynb\" target=\"_parent\"><img src=\"https://colab.research.google.com/assets/colab-badge.svg\" alt=\"Open In Colab\"/></a>"
      ]
    },
    {
      "cell_type": "markdown",
      "metadata": {
        "id": "jFKWTwZCIuCB"
      },
      "source": [
        "## Harish Practise: Transfer Learning CalTech"
      ]
    },
    {
      "cell_type": "code",
      "execution_count": 6,
      "metadata": {
        "id": "Zpid6IN1IhOM"
      },
      "outputs": [],
      "source": [
        "import torch\n",
        "import torch.nn as nn\n",
        "import torch.optim as optim\n",
        "from torchvision import datasets, models, transforms\n",
        "from torch.utils.data import DataLoader, random_split\n",
        "import matplotlib.pyplot as plt\n",
        "import numpy as np"
      ]
    },
    {
      "cell_type": "code",
      "execution_count": 7,
      "metadata": {
        "colab": {
          "base_uri": "https://localhost:8080/"
        },
        "id": "kqxpri5cJboV",
        "outputId": "acb5c1dd-ac14-4efb-e315-2cef6f9462aa"
      },
      "outputs": [
        {
          "output_type": "execute_result",
          "data": {
            "text/plain": [
              "device(type='cpu')"
            ]
          },
          "metadata": {},
          "execution_count": 7
        }
      ],
      "source": [
        "device = torch.device(\"cuda\" if torch.cuda.is_available() else \"cpu\")\n",
        "device"
      ]
    },
    {
      "cell_type": "code",
      "execution_count": 8,
      "metadata": {
        "colab": {
          "base_uri": "https://localhost:8080/",
          "height": 73
        },
        "id": "IubH0LHVUbyU",
        "outputId": "08573483-6edb-4c58-81ec-5cfec36a28aa"
      },
      "outputs": [
        {
          "output_type": "display_data",
          "data": {
            "text/plain": [
              "<IPython.core.display.HTML object>"
            ],
            "text/html": [
              "\n",
              "     <input type=\"file\" id=\"files-3b7321a1-380c-43a2-87f8-5cfa518b58ba\" name=\"files[]\" multiple disabled\n",
              "        style=\"border:none\" />\n",
              "     <output id=\"result-3b7321a1-380c-43a2-87f8-5cfa518b58ba\">\n",
              "      Upload widget is only available when the cell has been executed in the\n",
              "      current browser session. Please rerun this cell to enable.\n",
              "      </output>\n",
              "      <script>// Copyright 2017 Google LLC\n",
              "//\n",
              "// Licensed under the Apache License, Version 2.0 (the \"License\");\n",
              "// you may not use this file except in compliance with the License.\n",
              "// You may obtain a copy of the License at\n",
              "//\n",
              "//      http://www.apache.org/licenses/LICENSE-2.0\n",
              "//\n",
              "// Unless required by applicable law or agreed to in writing, software\n",
              "// distributed under the License is distributed on an \"AS IS\" BASIS,\n",
              "// WITHOUT WARRANTIES OR CONDITIONS OF ANY KIND, either express or implied.\n",
              "// See the License for the specific language governing permissions and\n",
              "// limitations under the License.\n",
              "\n",
              "/**\n",
              " * @fileoverview Helpers for google.colab Python module.\n",
              " */\n",
              "(function(scope) {\n",
              "function span(text, styleAttributes = {}) {\n",
              "  const element = document.createElement('span');\n",
              "  element.textContent = text;\n",
              "  for (const key of Object.keys(styleAttributes)) {\n",
              "    element.style[key] = styleAttributes[key];\n",
              "  }\n",
              "  return element;\n",
              "}\n",
              "\n",
              "// Max number of bytes which will be uploaded at a time.\n",
              "const MAX_PAYLOAD_SIZE = 100 * 1024;\n",
              "\n",
              "function _uploadFiles(inputId, outputId) {\n",
              "  const steps = uploadFilesStep(inputId, outputId);\n",
              "  const outputElement = document.getElementById(outputId);\n",
              "  // Cache steps on the outputElement to make it available for the next call\n",
              "  // to uploadFilesContinue from Python.\n",
              "  outputElement.steps = steps;\n",
              "\n",
              "  return _uploadFilesContinue(outputId);\n",
              "}\n",
              "\n",
              "// This is roughly an async generator (not supported in the browser yet),\n",
              "// where there are multiple asynchronous steps and the Python side is going\n",
              "// to poll for completion of each step.\n",
              "// This uses a Promise to block the python side on completion of each step,\n",
              "// then passes the result of the previous step as the input to the next step.\n",
              "function _uploadFilesContinue(outputId) {\n",
              "  const outputElement = document.getElementById(outputId);\n",
              "  const steps = outputElement.steps;\n",
              "\n",
              "  const next = steps.next(outputElement.lastPromiseValue);\n",
              "  return Promise.resolve(next.value.promise).then((value) => {\n",
              "    // Cache the last promise value to make it available to the next\n",
              "    // step of the generator.\n",
              "    outputElement.lastPromiseValue = value;\n",
              "    return next.value.response;\n",
              "  });\n",
              "}\n",
              "\n",
              "/**\n",
              " * Generator function which is called between each async step of the upload\n",
              " * process.\n",
              " * @param {string} inputId Element ID of the input file picker element.\n",
              " * @param {string} outputId Element ID of the output display.\n",
              " * @return {!Iterable<!Object>} Iterable of next steps.\n",
              " */\n",
              "function* uploadFilesStep(inputId, outputId) {\n",
              "  const inputElement = document.getElementById(inputId);\n",
              "  inputElement.disabled = false;\n",
              "\n",
              "  const outputElement = document.getElementById(outputId);\n",
              "  outputElement.innerHTML = '';\n",
              "\n",
              "  const pickedPromise = new Promise((resolve) => {\n",
              "    inputElement.addEventListener('change', (e) => {\n",
              "      resolve(e.target.files);\n",
              "    });\n",
              "  });\n",
              "\n",
              "  const cancel = document.createElement('button');\n",
              "  inputElement.parentElement.appendChild(cancel);\n",
              "  cancel.textContent = 'Cancel upload';\n",
              "  const cancelPromise = new Promise((resolve) => {\n",
              "    cancel.onclick = () => {\n",
              "      resolve(null);\n",
              "    };\n",
              "  });\n",
              "\n",
              "  // Wait for the user to pick the files.\n",
              "  const files = yield {\n",
              "    promise: Promise.race([pickedPromise, cancelPromise]),\n",
              "    response: {\n",
              "      action: 'starting',\n",
              "    }\n",
              "  };\n",
              "\n",
              "  cancel.remove();\n",
              "\n",
              "  // Disable the input element since further picks are not allowed.\n",
              "  inputElement.disabled = true;\n",
              "\n",
              "  if (!files) {\n",
              "    return {\n",
              "      response: {\n",
              "        action: 'complete',\n",
              "      }\n",
              "    };\n",
              "  }\n",
              "\n",
              "  for (const file of files) {\n",
              "    const li = document.createElement('li');\n",
              "    li.append(span(file.name, {fontWeight: 'bold'}));\n",
              "    li.append(span(\n",
              "        `(${file.type || 'n/a'}) - ${file.size} bytes, ` +\n",
              "        `last modified: ${\n",
              "            file.lastModifiedDate ? file.lastModifiedDate.toLocaleDateString() :\n",
              "                                    'n/a'} - `));\n",
              "    const percent = span('0% done');\n",
              "    li.appendChild(percent);\n",
              "\n",
              "    outputElement.appendChild(li);\n",
              "\n",
              "    const fileDataPromise = new Promise((resolve) => {\n",
              "      const reader = new FileReader();\n",
              "      reader.onload = (e) => {\n",
              "        resolve(e.target.result);\n",
              "      };\n",
              "      reader.readAsArrayBuffer(file);\n",
              "    });\n",
              "    // Wait for the data to be ready.\n",
              "    let fileData = yield {\n",
              "      promise: fileDataPromise,\n",
              "      response: {\n",
              "        action: 'continue',\n",
              "      }\n",
              "    };\n",
              "\n",
              "    // Use a chunked sending to avoid message size limits. See b/62115660.\n",
              "    let position = 0;\n",
              "    do {\n",
              "      const length = Math.min(fileData.byteLength - position, MAX_PAYLOAD_SIZE);\n",
              "      const chunk = new Uint8Array(fileData, position, length);\n",
              "      position += length;\n",
              "\n",
              "      const base64 = btoa(String.fromCharCode.apply(null, chunk));\n",
              "      yield {\n",
              "        response: {\n",
              "          action: 'append',\n",
              "          file: file.name,\n",
              "          data: base64,\n",
              "        },\n",
              "      };\n",
              "\n",
              "      let percentDone = fileData.byteLength === 0 ?\n",
              "          100 :\n",
              "          Math.round((position / fileData.byteLength) * 100);\n",
              "      percent.textContent = `${percentDone}% done`;\n",
              "\n",
              "    } while (position < fileData.byteLength);\n",
              "  }\n",
              "\n",
              "  // All done.\n",
              "  yield {\n",
              "    response: {\n",
              "      action: 'complete',\n",
              "    }\n",
              "  };\n",
              "}\n",
              "\n",
              "scope.google = scope.google || {};\n",
              "scope.google.colab = scope.google.colab || {};\n",
              "scope.google.colab._files = {\n",
              "  _uploadFiles,\n",
              "  _uploadFilesContinue,\n",
              "};\n",
              "})(self);\n",
              "</script> "
            ]
          },
          "metadata": {}
        },
        {
          "output_type": "stream",
          "name": "stdout",
          "text": [
            "Saving 101_ObjectCategories.tar.gz to 101_ObjectCategories.tar.gz\n"
          ]
        }
      ],
      "source": [
        "from google.colab import files\n",
        "uploaded = files.upload()"
      ]
    },
    {
      "cell_type": "code",
      "execution_count": 9,
      "metadata": {
        "id": "4giEnGM8UoqV"
      },
      "outputs": [],
      "source": [
        "import tarfile\n",
        "\n",
        "with tarfile.open(\"101_ObjectCategories.tar.gz\", \"r:gz\") as tar:\n",
        "    tar.extractall(\"caltech101\")"
      ]
    },
    {
      "cell_type": "markdown",
      "metadata": {
        "id": "4hUpwM2MJyGm"
      },
      "source": [
        "## Load Caltech101 Dataset"
      ]
    },
    {
      "cell_type": "code",
      "execution_count": 10,
      "metadata": {
        "id": "qw9LqjahJrZx"
      },
      "outputs": [],
      "source": [
        "transform = transforms.Compose([\n",
        "    transforms.Resize((128,128)), #Resize Image to a Fixed Size\n",
        "    transforms.RandomHorizontalFlip(), #Randomly flip images Horizontaly\n",
        "    transforms.RandomRotation(10),     #Randomly rotates images\n",
        "    transforms.ToTensor(),             #Convert Images to Pytorch Tensors\n",
        "    transforms.Normalize(mean=[0.5,0.5,0.5], std=[0.5,0.5,0.5])     # Normalize to range [-1,-1]\n",
        "])\n",
        "\n",
        "# Load the entire Datasets\n",
        "dataset = datasets.ImageFolder(root=\"caltech101/101_ObjectCategories\", transform=transform)\n"
      ]
    },
    {
      "cell_type": "code",
      "execution_count": 11,
      "metadata": {
        "colab": {
          "base_uri": "https://localhost:8080/"
        },
        "id": "RJrkxQ0MZPPg",
        "outputId": "c243e8a9-90f5-4141-b951-8ea4c05d8152"
      },
      "outputs": [
        {
          "output_type": "execute_result",
          "data": {
            "text/plain": [
              "9144"
            ]
          },
          "metadata": {},
          "execution_count": 11
        }
      ],
      "source": [
        "len(dataset)"
      ]
    },
    {
      "cell_type": "code",
      "execution_count": 12,
      "metadata": {
        "colab": {
          "base_uri": "https://localhost:8080/"
        },
        "id": "9jTnJizLZSEq",
        "outputId": "5380d080-039d-4500-ebed-a5e696a8f9a7"
      },
      "outputs": [
        {
          "output_type": "execute_result",
          "data": {
            "text/plain": [
              "['BACKGROUND_Google',\n",
              " 'Faces',\n",
              " 'Faces_easy',\n",
              " 'Leopards',\n",
              " 'Motorbikes',\n",
              " 'accordion',\n",
              " 'airplanes',\n",
              " 'anchor',\n",
              " 'ant',\n",
              " 'barrel',\n",
              " 'bass',\n",
              " 'beaver',\n",
              " 'binocular',\n",
              " 'bonsai',\n",
              " 'brain',\n",
              " 'brontosaurus',\n",
              " 'buddha',\n",
              " 'butterfly',\n",
              " 'camera',\n",
              " 'cannon',\n",
              " 'car_side',\n",
              " 'ceiling_fan',\n",
              " 'cellphone',\n",
              " 'chair',\n",
              " 'chandelier',\n",
              " 'cougar_body',\n",
              " 'cougar_face',\n",
              " 'crab',\n",
              " 'crayfish',\n",
              " 'crocodile',\n",
              " 'crocodile_head',\n",
              " 'cup',\n",
              " 'dalmatian',\n",
              " 'dollar_bill',\n",
              " 'dolphin',\n",
              " 'dragonfly',\n",
              " 'electric_guitar',\n",
              " 'elephant',\n",
              " 'emu',\n",
              " 'euphonium',\n",
              " 'ewer',\n",
              " 'ferry',\n",
              " 'flamingo',\n",
              " 'flamingo_head',\n",
              " 'garfield',\n",
              " 'gerenuk',\n",
              " 'gramophone',\n",
              " 'grand_piano',\n",
              " 'hawksbill',\n",
              " 'headphone',\n",
              " 'hedgehog',\n",
              " 'helicopter',\n",
              " 'ibis',\n",
              " 'inline_skate',\n",
              " 'joshua_tree',\n",
              " 'kangaroo',\n",
              " 'ketch',\n",
              " 'lamp',\n",
              " 'laptop',\n",
              " 'llama',\n",
              " 'lobster',\n",
              " 'lotus',\n",
              " 'mandolin',\n",
              " 'mayfly',\n",
              " 'menorah',\n",
              " 'metronome',\n",
              " 'minaret',\n",
              " 'nautilus',\n",
              " 'octopus',\n",
              " 'okapi',\n",
              " 'pagoda',\n",
              " 'panda',\n",
              " 'pigeon',\n",
              " 'pizza',\n",
              " 'platypus',\n",
              " 'pyramid',\n",
              " 'revolver',\n",
              " 'rhino',\n",
              " 'rooster',\n",
              " 'saxophone',\n",
              " 'schooner',\n",
              " 'scissors',\n",
              " 'scorpion',\n",
              " 'sea_horse',\n",
              " 'snoopy',\n",
              " 'soccer_ball',\n",
              " 'stapler',\n",
              " 'starfish',\n",
              " 'stegosaurus',\n",
              " 'stop_sign',\n",
              " 'strawberry',\n",
              " 'sunflower',\n",
              " 'tick',\n",
              " 'trilobite',\n",
              " 'umbrella',\n",
              " 'watch',\n",
              " 'water_lilly',\n",
              " 'wheelchair',\n",
              " 'wild_cat',\n",
              " 'windsor_chair',\n",
              " 'wrench',\n",
              " 'yin_yang']"
            ]
          },
          "metadata": {},
          "execution_count": 12
        }
      ],
      "source": [
        "dataset.classes"
      ]
    },
    {
      "cell_type": "code",
      "execution_count": 13,
      "metadata": {
        "colab": {
          "base_uri": "https://localhost:8080/"
        },
        "id": "DS8GzRc5ZUlv",
        "outputId": "24b8cd1f-2df0-45a4-bd3d-eaab7a3583ab"
      },
      "outputs": [
        {
          "output_type": "execute_result",
          "data": {
            "text/plain": [
              "(7315, 1829)"
            ]
          },
          "metadata": {},
          "execution_count": 13
        }
      ],
      "source": [
        "# Split the dataset into train and test sets\n",
        "train_size = int(0.8 * len(dataset)) #80% for training\n",
        "test_size = len(dataset) - train_size # 20% for testing\n",
        "train_dataset, test_dataset = random_split(dataset, [train_size, test_size])\n",
        "\n",
        "len(train_dataset), len(test_dataset)"
      ]
    },
    {
      "cell_type": "code",
      "execution_count": 14,
      "metadata": {
        "id": "WWRkwWSzaRU4"
      },
      "outputs": [],
      "source": [
        "# Create DataLoader\n",
        "train_loader = DataLoader(train_dataset, batch_size=32, shuffle=True)\n",
        "test_loader = DataLoader(test_dataset, batch_size=32, shuffle=False)"
      ]
    },
    {
      "cell_type": "markdown",
      "metadata": {
        "id": "nYVPIwiWa6QM"
      },
      "source": [
        "# Visualize a Few Images"
      ]
    },
    {
      "cell_type": "code",
      "execution_count": 15,
      "metadata": {
        "colab": {
          "base_uri": "https://localhost:8080/"
        },
        "id": "3MU2DL-LayPz",
        "outputId": "843c5bfa-08d6-456d-c07e-05d92467dcdf"
      },
      "outputs": [
        {
          "output_type": "stream",
          "name": "stdout",
          "text": [
            "torch.Size([32, 3, 128, 128])\n",
            "torch.Size([32])\n"
          ]
        }
      ],
      "source": [
        "for i, (images, labels) in enumerate(train_loader):\n",
        "  print(images.shape)\n",
        "  print(labels.shape)\n",
        "  break"
      ]
    },
    {
      "cell_type": "code",
      "execution_count": 16,
      "metadata": {
        "colab": {
          "base_uri": "https://localhost:8080/",
          "height": 128
        },
        "id": "Zq_QleiYbQ4W",
        "outputId": "1bf8bf44-fc12-4e85-b2f5-5f081c997f50"
      },
      "outputs": [
        {
          "output_type": "display_data",
          "data": {
            "text/plain": [
              "<Figure size 640x480 with 1 Axes>"
            ],
            "image/png": "[encoded data removed]"
          },
          "metadata": {}
        }
      ],
      "source": [
        "import torchvision\n",
        "\n",
        "def imshow(img):\n",
        "  img = img / 2 + 0.5 #UnNormalize\n",
        "  npimg = img.numpy()\n",
        "  plt.imshow(np.transpose(npimg, (1,2,0)))\n",
        "  plt.show()\n",
        "\n",
        "# show images\n",
        "imshow(torchvision.utils.make_grid(images[:8]))"
      ]
    },
    {
      "cell_type": "code",
      "execution_count": 17,
      "metadata": {
        "colab": {
          "base_uri": "https://localhost:8080/"
        },
        "id": "w4eQtJjocWY_",
        "outputId": "b2b6005e-59ea-4463-d908-eef0b6c0745a"
      },
      "outputs": [
        {
          "output_type": "execute_result",
          "data": {
            "text/plain": [
              "tensor([56, 87, 54,  0, 97,  6, 16, 85])"
            ]
          },
          "metadata": {},
          "execution_count": 17
        }
      ],
      "source": [
        "labels[:8]"
      ]
    },
    {
      "cell_type": "code",
      "execution_count": 18,
      "metadata": {
        "colab": {
          "base_uri": "https://localhost:8080/"
        },
        "id": "9iRSXA9Dcgz8",
        "outputId": "c85ce56d-9005-4b72-bce1-a8c0b63a9dd2"
      },
      "outputs": [
        {
          "output_type": "execute_result",
          "data": {
            "text/plain": [
              "['ketch',\n",
              " 'starfish',\n",
              " 'joshua_tree',\n",
              " 'BACKGROUND_Google',\n",
              " 'wheelchair',\n",
              " 'airplanes',\n",
              " 'buddha',\n",
              " 'soccer_ball']"
            ]
          },
          "metadata": {},
          "execution_count": 18
        }
      ],
      "source": [
        "[dataset.classes[i] for i in labels[:8]]"
      ]
    },
    {
      "cell_type": "markdown",
      "metadata": {
        "id": "ZiyVZSjLdVmg"
      },
      "source": [
        "### Model Training Without Transfer Learning"
      ]
    },
    {
      "cell_type": "code",
      "execution_count": 19,
      "metadata": {
        "id": "Ji2tdhvBdWJj"
      },
      "outputs": [],
      "source": [
        "class CNN(nn.Module):\n",
        "  def __init__(self, num_classes):\n",
        "    super().__init__()\n",
        "    self.network = nn.Sequential(\n",
        "        nn.Conv2d(3, 32, kernel_size=(3, 3), padding=\"same\"), # Output(32,128,128)\n",
        "        nn.ReLU(),\n",
        "        nn.MaxPool2d(stride=(2,2), kernel_size=(2,2)), #Output(32,64,64)\n",
        "\n",
        "        nn.Conv2d(32, 64, kernel_size=(3, 3), padding=\"same\"), #Output (64,64,64)\n",
        "        nn.ReLU(),\n",
        "        nn.MaxPool2d(stride=(2,2), kernel_size=(2,2)), #Output(64,32,32)\n",
        "\n",
        "        nn.Flatten(),\n",
        "        nn.Linear(64 * 32 * 32, 256),\n",
        "        nn.ReLU(),\n",
        "        nn.Linear(256,128),\n",
        "        nn.ReLU(),\n",
        "        nn.Linear(128, num_classes)\n",
        "\n",
        "        )\n",
        "  def forward(self, x):\n",
        "    return self.network(x)"
      ]
    },
    {
      "cell_type": "code",
      "execution_count": 20,
      "metadata": {
        "id": "RQCnaSPXioNj"
      },
      "outputs": [],
      "source": [
        "# Training Loop\n",
        "def train_model(model, optimizer, criterion, train_loader, test_loader, num_epochs=5):\n",
        "  for epoch in range(num_epochs):\n",
        "    model.train()\n",
        "    running_loss = 0.0\n",
        "    for images, labels in train_loader:\n",
        "      images, labels = images.to(device), labels.to(device)\n",
        "\n",
        "      optimizer.zero_grad()\n",
        "      outputs = model(images)\n",
        "      loss = criterion(outputs,labels)\n",
        "      loss.backward()\n",
        "      optimizer.step()\n",
        "\n",
        "      running_loss += loss.item()\n",
        "    print(f\"Epoch [{epoch+1}/{num_epochs}], Loss: {running_loss/len(train_loader):.4f}\")"
      ]
    },
    {
      "cell_type": "code",
      "execution_count": 21,
      "metadata": {
        "colab": {
          "base_uri": "https://localhost:8080/"
        },
        "id": "xVcshOG1lPwO",
        "outputId": "13afaa4d-10ac-4025-914b-11922b94e153"
      },
      "outputs": [
        {
          "output_type": "stream",
          "name": "stdout",
          "text": [
            "Epoch [1/5], Loss: 3.3816\n",
            "Epoch [2/5], Loss: 2.4816\n",
            "Epoch [3/5], Loss: 2.0098\n",
            "Epoch [4/5], Loss: 1.6624\n",
            "Epoch [5/5], Loss: 1.4254\n"
          ]
        }
      ],
      "source": [
        "# Initialize model, loss function, and optimizer\n",
        "num_classes = len(dataset.classes)\n",
        "model = CNN(num_classes).to(device)\n",
        "criterion = nn.CrossEntropyLoss()\n",
        "optimizer = optim.Adam(model.parameters(), lr=0.001)\n",
        "\n",
        "train_model(model, optimizer, criterion, train_loader, test_loader, num_epochs=5)"
      ]
    },
    {
      "cell_type": "code",
      "execution_count": 22,
      "metadata": {
        "colab": {
          "base_uri": "https://localhost:8080/"
        },
        "id": "qn68bDiMtwXf",
        "outputId": "8f0153a7-528f-47be-9e5d-a024419f3502"
      },
      "outputs": [
        {
          "output_type": "stream",
          "name": "stdout",
          "text": [
            "Test Accuracy: 51.72%\n"
          ]
        }
      ],
      "source": [
        "def test_model(model, test_loader):\n",
        "  # Evaluation Loop\n",
        "  model.eval()\n",
        "  correct = 0\n",
        "  total = 0\n",
        "  with torch.no_grad():\n",
        "    for images, labels in test_loader:\n",
        "      images, labels = images.to(device), labels.to(device)\n",
        "      outputs = model(images)\n",
        "      _, predicted = torch.max(outputs,1)\n",
        "      total += labels.size(0)\n",
        "      correct += (predicted == labels).sum().item()\n",
        "\n",
        "  print(f\"Test Accuracy: {100 * correct / total:.2f}%\")\n",
        "\n",
        "test_model(model,test_loader)"
      ]
    },
    {
      "cell_type": "markdown",
      "metadata": {
        "id": "ZkSPtundvxk-"
      },
      "source": [
        "### Model Training With Transfer Learning"
      ]
    },
    {
      "cell_type": "code",
      "execution_count": 23,
      "metadata": {
        "colab": {
          "base_uri": "https://localhost:8080/"
        },
        "id": "AAjq91UovyL5",
        "outputId": "9af08f13-e812-41b4-f13f-7984488d2929"
      },
      "outputs": [
        {
          "output_type": "execute_result",
          "data": {
            "text/plain": [
              "102"
            ]
          },
          "metadata": {},
          "execution_count": 23
        }
      ],
      "source": [
        "num_classes"
      ]
    },
    {
      "cell_type": "markdown",
      "metadata": {
        "id": "6BeNixXlNw4y"
      },
      "source": [
        "### ResNet 18"
      ]
    },
    {
      "cell_type": "code",
      "execution_count": 24,
      "metadata": {
        "colab": {
          "base_uri": "https://localhost:8080/"
        },
        "id": "YHvhAd8PNs51",
        "outputId": "e78cc5d8-e9ac-496e-c827-8b9fdad0a3f4"
      },
      "outputs": [
        {
          "output_type": "stream",
          "name": "stderr",
          "text": [
            "Downloading: \"https://download.pytorch.org/models/resnet18-f37072fd.pth\" to /root/.cache/torch/hub/checkpoints/resnet18-f37072fd.pth\n",
            "100%|██████████| 44.7M/44.7M [00:00<00:00, 133MB/s]\n"
          ]
        },
        {
          "output_type": "stream",
          "name": "stdout",
          "text": [
            "Epoch [1/5], Loss: 2.0484\n",
            "Epoch [2/5], Loss: 1.0867\n",
            "Epoch [3/5], Loss: 0.7528\n",
            "Epoch [4/5], Loss: 0.5945\n",
            "Epoch [5/5], Loss: 0.4928\n",
            "Test Accuracy: 71.57%\n"
          ]
        }
      ],
      "source": [
        "from torchvision import models\n",
        "\n",
        "# Load pre-trained ResNet18 model\n",
        "model = models.resnet18(weights='DEFAULT')\n",
        "\n",
        "# Replace the fully connected layer\n",
        "model.fc = nn.Linear(model.fc.in_features, num_classes)\n",
        "\n",
        "# Move model to device\n",
        "model = model.to(device)\n",
        "\n",
        "# Define Loss Function and Optimizers\n",
        "criterion = nn.CrossEntropyLoss()\n",
        "optimizer = optim.Adam(model.parameters(), lr=0.001)\n",
        "\n",
        "train_model(model, optimizer, criterion, train_loader, test_loader, num_epochs=5)\n",
        "test_model(model, test_loader)"
      ]
    },
    {
      "cell_type": "markdown",
      "source": [
        "### EfficientNet"
      ],
      "metadata": {
        "id": "fKQlKdtmksga"
      }
    },
    {
      "cell_type": "code",
      "source": [
        "import torch\n",
        "import torch.nn as nn\n",
        "from torchvision import models\n",
        "from torchvision.models import efficientnet_b0, EfficientNet_B0_Weights\n",
        "model = models.efficientnet_b0(weights='DEFAULT')\n",
        "model.classifier[1] = nn.Linear(model.classifier[1].in_features, num_classes)\n",
        "model = model.to(device)\n",
        "\n",
        "# Define loss function and optimizer\n",
        "criterion = nn.CrossEntropyLoss()\n",
        "optimizer = optim.Adam(model.parameters(), lr=0.001)\n",
        "\n",
        "train_model(model, optimizer, criterion, train_loader, test_loader, num_epochs=5)\n",
        "test_model(model, test_loader)"
      ],
      "metadata": {
        "colab": {
          "base_uri": "https://localhost:8080/"
        },
        "id": "I-UQtvgLeFEv",
        "outputId": "f88009b4-c7bf-41aa-c5aa-523e20878d5d"
      },
      "execution_count": 25,
      "outputs": [
        {
          "output_type": "stream",
          "name": "stderr",
          "text": [
            "Downloading: \"https://download.pytorch.org/models/efficientnet_b0_rwightman-7f5810bc.pth\" to /root/.cache/torch/hub/checkpoints/efficientnet_b0_rwightman-7f5810bc.pth\n",
            "100%|██████████| 20.5M/20.5M [00:00<00:00, 54.3MB/s]\n"
          ]
        },
        {
          "output_type": "stream",
          "name": "stdout",
          "text": [
            "Epoch [1/5], Loss: 1.4627\n",
            "Epoch [2/5], Loss: 0.5307\n",
            "Epoch [3/5], Loss: 0.3433\n",
            "Epoch [4/5], Loss: 0.2477\n",
            "Epoch [5/5], Loss: 0.2044\n",
            "Test Accuracy: 88.24%\n"
          ]
        }
      ]
    }
  ],
  "metadata": {
    "colab": {
      "provenance": [],
      "mount_file_id": "1Q5S7_UpGVFJ4GN11dkydk2afY0_pLxvo",
      "authorship_tag": "ABX9TyNQtJv6Ichc58pOxuPxZbDO",
      "include_colab_link": true
    },
    "kernelspec": {
      "display_name": "Python 3",
      "name": "python3"
    },
    "language_info": {
      "name": "python"
    }
  },
  "nbformat": 4,
  "nbformat_minor": 0
}