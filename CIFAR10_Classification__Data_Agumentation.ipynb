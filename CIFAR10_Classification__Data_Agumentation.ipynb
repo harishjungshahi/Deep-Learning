{
  "nbformat": 4,
  "nbformat_minor": 0,
  "metadata": {
    "colab": {
      "provenance": [],
      "authorship_tag": "ABX9TyNQMpiRETGA+EPTogVTReWq",
      "include_colab_link": true
    },
    "kernelspec": {
      "name": "python3",
      "display_name": "Python 3"
    },
    "language_info": {
      "name": "python"
    }
  },
  "cells": [
    {
      "cell_type": "markdown",
      "metadata": {
        "id": "view-in-github",
        "colab_type": "text"
      },
      "source": [
        "<a href=\"https://colab.research.google.com/github/harishjungshahi/Deep-Learning/blob/main/CIFAR10_Classification__Data_Agumentation.ipynb\" target=\"_parent\"><img src=\"https://colab.research.google.com/assets/colab-badge.svg\" alt=\"Open In Colab\"/></a>"
      ]
    },
    {
      "cell_type": "markdown",
      "source": [
        "## Harish Practise : CIFAR10 Classification Data Agumentation"
      ],
      "metadata": {
        "id": "mg9ssVk-X6vr"
      }
    },
    {
      "cell_type": "code",
      "execution_count": 3,
      "metadata": {
        "id": "iDWq81ABSd3L"
      },
      "outputs": [],
      "source": [
        "# Importing Libraries\n",
        "import torch\n",
        "import torch.nn as nn\n",
        "import torch.optim as optim\n",
        "import torchvision\n",
        "import torchvision.transforms as transforms\n",
        "from torch.utils.data import DataLoader\n",
        "from matplotlib import pyplot as plt\n",
        "import numpy as np"
      ]
    },
    {
      "cell_type": "code",
      "source": [
        "# Device Configuration\n",
        "device = torch.device('cuda' if torch.cuda.is_available() else 'cpu')\n",
        "device"
      ],
      "metadata": {
        "colab": {
          "base_uri": "https://localhost:8080/"
        },
        "id": "O3GHqFmDYsSp",
        "outputId": "59ff59ea-d0bf-4eb2-9859-27d5ee80ed06"
      },
      "execution_count": 4,
      "outputs": [
        {
          "output_type": "execute_result",
          "data": {
            "text/plain": [
              "device(type='cpu')"
            ]
          },
          "metadata": {},
          "execution_count": 4
        }
      ]
    },
    {
      "cell_type": "markdown",
      "source": [
        "## Data Load"
      ],
      "metadata": {
        "id": "RnKCi78DZAx-"
      }
    },
    {
      "cell_type": "code",
      "source": [
        "# Transformations\n",
        "transform = transforms.Compose([\n",
        "    transforms.ToTensor(),\n",
        "    transforms.Normalize((0.5,0.5,0.5),(0.5,0.5,0.5))\n",
        "    ])\n",
        "\n",
        "# CIFAR -10 DATASET\n",
        "train_dataset = torchvision.datasets.CIFAR10(root='./data', train=True, download=True, transform=transform)\n",
        "test_dataset = torchvision.datasets.CIFAR10(root='./data', train=False, download=True, transform=transform)"
      ],
      "metadata": {
        "colab": {
          "base_uri": "https://localhost:8080/"
        },
        "id": "UPNPs8myZC5G",
        "outputId": "d01ca103-c27c-4e0e-f2b4-938af32006c3"
      },
      "execution_count": 5,
      "outputs": [
        {
          "output_type": "stream",
          "name": "stderr",
          "text": [
            "100%|██████████| 170M/170M [00:10<00:00, 16.1MB/s]\n"
          ]
        }
      ]
    },
    {
      "cell_type": "code",
      "source": [
        "len(train_dataset), len(test_dataset)"
      ],
      "metadata": {
        "colab": {
          "base_uri": "https://localhost:8080/"
        },
        "id": "CEaTNsTwaYij",
        "outputId": "73cf2e45-0e04-43d1-ad1d-66501778ea18"
      },
      "execution_count": 6,
      "outputs": [
        {
          "output_type": "execute_result",
          "data": {
            "text/plain": [
              "(50000, 10000)"
            ]
          },
          "metadata": {},
          "execution_count": 6
        }
      ]
    },
    {
      "cell_type": "code",
      "source": [
        "batch_size = 100\n",
        "\n",
        "#Data Loader\n",
        "train_loader = DataLoader(dataset=train_dataset, batch_size=batch_size, shuffle=True)\n",
        "test_loader = DataLoader(dataset=test_dataset, batch_size=batch_size, shuffle=True)"
      ],
      "metadata": {
        "id": "9-rJdbXyalw7"
      },
      "execution_count": 7,
      "outputs": []
    },
    {
      "cell_type": "markdown",
      "source": [
        "# Visualize a Few Images"
      ],
      "metadata": {
        "id": "U30RN80xb_7g"
      }
    },
    {
      "cell_type": "code",
      "source": [
        "for i, (images,labels) in enumerate(train_loader):\n",
        "  print(images.shape)\n",
        "  print(labels.shape)\n",
        "  break"
      ],
      "metadata": {
        "colab": {
          "base_uri": "https://localhost:8080/"
        },
        "id": "rYBSgRzobqSt",
        "outputId": "536de7af-2992-492f-c6e0-a0dd5268cec4"
      },
      "execution_count": 8,
      "outputs": [
        {
          "output_type": "stream",
          "name": "stdout",
          "text": [
            "torch.Size([100, 3, 32, 32])\n",
            "torch.Size([100])\n"
          ]
        }
      ]
    },
    {
      "cell_type": "code",
      "source": [
        "def imshow(img):\n",
        "  img = img/2 + 0.5 #unnormalize\n",
        "  npimg = img.numpy()\n",
        "  plt.imshow(np.transpose(npimg,(1,2,0)))\n",
        "  plt.show()\n",
        "\n",
        "#show images\n",
        "imshow(torchvision.utils.make_grid(images[:8]))"
      ],
      "metadata": {
        "colab": {
          "base_uri": "https://localhost:8080/",
          "height": 130
        },
        "id": "tO4gU08DceMz",
        "outputId": "e211edb4-5543-467a-832e-77294e7a2dd3"
      },
      "execution_count": 9,
      "outputs": [
        {
          "output_type": "display_data",
          "data": {
            "text/plain": [
              "<Figure size 640x480 with 1 Axes>"
            ],
            "image/png": "[encoded data removed]"
          },
          "metadata": {}
        }
      ]
    },
    {
      "cell_type": "code",
      "source": [
        "labels[:8]"
      ],
      "metadata": {
        "colab": {
          "base_uri": "https://localhost:8080/"
        },
        "id": "iQCRcM2LeBx2",
        "outputId": "53d69a06-8411-4731-b78a-d6d420d4072e"
      },
      "execution_count": 10,
      "outputs": [
        {
          "output_type": "execute_result",
          "data": {
            "text/plain": [
              "tensor([6, 3, 5, 6, 0, 9, 6, 1])"
            ]
          },
          "metadata": {},
          "execution_count": 10
        }
      ]
    },
    {
      "cell_type": "code",
      "source": [
        "classes = ('plane','car','bird','cat','deer','dog','frog','horse','ship','truck')"
      ],
      "metadata": {
        "id": "YmPN9OkTeGr0"
      },
      "execution_count": 11,
      "outputs": []
    },
    {
      "cell_type": "code",
      "source": [
        "[classes[i] for i in labels[:8]]"
      ],
      "metadata": {
        "colab": {
          "base_uri": "https://localhost:8080/"
        },
        "id": "Nqu2r1BfeaIB",
        "outputId": "91eb776e-e00e-4ab5-c152-238a36152b46"
      },
      "execution_count": 12,
      "outputs": [
        {
          "output_type": "execute_result",
          "data": {
            "text/plain": [
              "['frog', 'cat', 'dog', 'frog', 'plane', 'truck', 'frog', 'car']"
            ]
          },
          "metadata": {},
          "execution_count": 12
        }
      ]
    },
    {
      "cell_type": "markdown",
      "source": [
        "## Train a Neural Network"
      ],
      "metadata": {
        "id": "Qc_xKYGJe6yk"
      }
    },
    {
      "cell_type": "code",
      "source": [
        "class CNN(nn.Module):\n",
        "    def __init__(self):\n",
        "        super().__init__()\n",
        "        self.network = nn.Sequential(\n",
        "            nn.Conv2d(3, 32, kernel_size=(3,3), padding='same'),  # Output: (32, 32, 32)\n",
        "            nn.ReLU(),\n",
        "            nn.MaxPool2d(kernel_size=(2,2), stride=(2,2)),        # Output: (32, 16, 16)\n",
        "\n",
        "            nn.Conv2d(32, 64, kernel_size=(3,3)),             # Output: (64, 14, 14)\n",
        "            nn.ReLU(),\n",
        "            nn.MaxPool2d(kernel_size=(2,2), stride=(2,2))         # Output: (64, 7, 7)\n",
        "        )\n",
        "        self.fc_layers = nn.Sequential(\n",
        "            nn.Flatten(),                                # Flatten to (64 * 7 * 7 = 3136)\n",
        "            nn.Linear(64 * 7 * 7, 600),                  # Corrected input size\n",
        "            nn.ReLU(),\n",
        "            nn.Linear(600, 120),\n",
        "            nn.ReLU(),\n",
        "            nn.Linear(120, 10)\n",
        "        )\n",
        "\n",
        "    def forward(self, x):\n",
        "        x = self.network(x)\n",
        "        x = self.fc_layers(x)\n",
        "        return x"
      ],
      "metadata": {
        "id": "VN0jflFBe9zC"
      },
      "execution_count": 13,
      "outputs": []
    },
    {
      "cell_type": "code",
      "source": [
        "model = CNN()\n",
        "dummy_input = torch.randn(1, 3, 32, 32)  # Single example with CIFAR-10 dimensions\n",
        "output = model(dummy_input)\n",
        "print(\"Output shape:\", output.shape)  # Should be [1, 10]"
      ],
      "metadata": {
        "colab": {
          "base_uri": "https://localhost:8080/"
        },
        "id": "SV4Gk9sctmmM",
        "outputId": "d8e7e340-ecf3-4470-d91d-aa05c6c8c1e4"
      },
      "execution_count": 14,
      "outputs": [
        {
          "output_type": "stream",
          "name": "stdout",
          "text": [
            "Output shape: torch.Size([1, 10])\n"
          ]
        }
      ]
    },
    {
      "cell_type": "code",
      "source": [
        "# Hyperparameters\n",
        "num_epochs = 10\n",
        "learning_rate = 0.001\n",
        "\n",
        "model = CNN().to(device)\n",
        "criterion = nn.CrossEntropyLoss()\n",
        "optimizer = optim.Adam(model.parameters(), lr=learning_rate)"
      ],
      "metadata": {
        "id": "5Jkez8FHsjcY"
      },
      "execution_count": 15,
      "outputs": []
    },
    {
      "cell_type": "code",
      "source": [
        "# Training loop\n",
        "total_step = len(train_loader)\n",
        "for epoch in range(num_epochs):\n",
        "    for i, (images, labels) in enumerate(train_loader):\n",
        "        images = images.to(device)\n",
        "        labels = labels.to(device)\n",
        "\n",
        "        # Forward pass\n",
        "        outputs = model(images)\n",
        "        loss = criterion(outputs, labels)\n",
        "\n",
        "        # Backward and optimize\n",
        "        optimizer.zero_grad()\n",
        "        loss.backward()\n",
        "        optimizer.step()\n",
        "\n",
        "        if (i+1) % 100 == 0:\n",
        "            print(f\"Epoch [{epoch+1}/{num_epochs}], Step [{i+1}/{total_step}], Loss: {loss.item():.4f}\")\n",
        "\n",
        "# Testing the model\n",
        "model.eval()\n",
        "with torch.no_grad():\n",
        "    correct = 0\n",
        "    total = 0\n",
        "    for images, labels in test_loader:\n",
        "        images = images.to(device)\n",
        "        labels = labels.to(device)\n",
        "        outputs = model(images)\n",
        "        _, predicted = torch.max(outputs.data, 1)\n",
        "        total += labels.size(0)\n",
        "        correct += (predicted == labels).sum().item()\n",
        "\n",
        "    print(f\"Accuracy of the model on the 10000 test images: {100 * correct / total:.2f}%\")"
      ],
      "metadata": {
        "colab": {
          "base_uri": "https://localhost:8080/"
        },
        "id": "BgaDgU-vywb9",
        "outputId": "5d5ab54c-5467-495b-83f9-1a87f5271fba"
      },
      "execution_count": 16,
      "outputs": [
        {
          "output_type": "stream",
          "name": "stdout",
          "text": [
            "Epoch [1/10], Step [100/500], Loss: 1.4406\n",
            "Epoch [1/10], Step [200/500], Loss: 1.2581\n",
            "Epoch [1/10], Step [300/500], Loss: 1.3827\n",
            "Epoch [1/10], Step [400/500], Loss: 1.1878\n",
            "Epoch [1/10], Step [500/500], Loss: 1.0363\n",
            "Epoch [2/10], Step [100/500], Loss: 0.9082\n",
            "Epoch [2/10], Step [200/500], Loss: 0.9833\n",
            "Epoch [2/10], Step [300/500], Loss: 0.9071\n",
            "Epoch [2/10], Step [400/500], Loss: 1.0210\n",
            "Epoch [2/10], Step [500/500], Loss: 0.8238\n",
            "Epoch [3/10], Step [100/500], Loss: 0.7263\n",
            "Epoch [3/10], Step [200/500], Loss: 0.6289\n",
            "Epoch [3/10], Step [300/500], Loss: 0.8519\n",
            "Epoch [3/10], Step [400/500], Loss: 0.6783\n",
            "Epoch [3/10], Step [500/500], Loss: 0.7644\n",
            "Epoch [4/10], Step [100/500], Loss: 0.7153\n",
            "Epoch [4/10], Step [200/500], Loss: 0.7263\n",
            "Epoch [4/10], Step [300/500], Loss: 0.5883\n",
            "Epoch [4/10], Step [400/500], Loss: 0.6515\n",
            "Epoch [4/10], Step [500/500], Loss: 0.5681\n",
            "Epoch [5/10], Step [100/500], Loss: 0.6090\n",
            "Epoch [5/10], Step [200/500], Loss: 0.4600\n",
            "Epoch [5/10], Step [300/500], Loss: 0.3088\n",
            "Epoch [5/10], Step [400/500], Loss: 0.4281\n",
            "Epoch [5/10], Step [500/500], Loss: 0.5440\n",
            "Epoch [6/10], Step [100/500], Loss: 0.2576\n",
            "Epoch [6/10], Step [200/500], Loss: 0.4370\n",
            "Epoch [6/10], Step [300/500], Loss: 0.2554\n",
            "Epoch [6/10], Step [400/500], Loss: 0.3023\n",
            "Epoch [6/10], Step [500/500], Loss: 0.4162\n",
            "Epoch [7/10], Step [100/500], Loss: 0.1569\n",
            "Epoch [7/10], Step [200/500], Loss: 0.1691\n",
            "Epoch [7/10], Step [300/500], Loss: 0.2257\n",
            "Epoch [7/10], Step [400/500], Loss: 0.1312\n",
            "Epoch [7/10], Step [500/500], Loss: 0.1887\n",
            "Epoch [8/10], Step [100/500], Loss: 0.0887\n",
            "Epoch [8/10], Step [200/500], Loss: 0.0969\n",
            "Epoch [8/10], Step [300/500], Loss: 0.0520\n",
            "Epoch [8/10], Step [400/500], Loss: 0.1623\n",
            "Epoch [8/10], Step [500/500], Loss: 0.1211\n",
            "Epoch [9/10], Step [100/500], Loss: 0.0614\n",
            "Epoch [9/10], Step [200/500], Loss: 0.0839\n",
            "Epoch [9/10], Step [300/500], Loss: 0.1050\n",
            "Epoch [9/10], Step [400/500], Loss: 0.0806\n",
            "Epoch [9/10], Step [500/500], Loss: 0.2091\n",
            "Epoch [10/10], Step [100/500], Loss: 0.0648\n",
            "Epoch [10/10], Step [200/500], Loss: 0.0849\n",
            "Epoch [10/10], Step [300/500], Loss: 0.0515\n",
            "Epoch [10/10], Step [400/500], Loss: 0.0374\n",
            "Epoch [10/10], Step [500/500], Loss: 0.0687\n",
            "Accuracy of the model on the 10000 test images: 72.35%\n"
          ]
        }
      ]
    },
    {
      "cell_type": "code",
      "source": [
        "# Training function\n",
        "def train_model(model, criterion, optimizer, train_loader, val_loader, epochs=5):\n",
        "    train_losses, val_losses, val_accuracy = [], [], []\n",
        "    for epoch in range(epochs):\n",
        "        model.train()\n",
        "        train_loss = 0.0\n",
        "        for images, labels in train_loader:\n",
        "            images, labels = images.to(device), labels.to(device)\n",
        "            optimizer.zero_grad()\n",
        "            outputs = model(images)\n",
        "            loss = criterion(outputs, labels)\n",
        "            loss.backward()\n",
        "            optimizer.step()\n",
        "            train_loss += loss.item()\n",
        "        train_losses.append(train_loss / len(train_loader))\n",
        "\n",
        "        # Validation\n",
        "        model.eval()\n",
        "        val_loss = 0.0\n",
        "        with torch.no_grad():\n",
        "            correct = 0\n",
        "            total = 0\n",
        "            for images, labels in val_loader:\n",
        "                images, labels = images.to(device), labels.to(device)\n",
        "                outputs = model(images)\n",
        "                loss = criterion(outputs, labels)\n",
        "                val_loss += loss.item()\n",
        "                _, predicted = torch.max(outputs.data, 1)\n",
        "                total += labels.size(0)\n",
        "                correct += (predicted == labels).sum().item()\n",
        "\n",
        "        val_losses.append(val_loss / len(val_loader))\n",
        "        val_accuracy.append(correct/total)\n",
        "\n",
        "        print(f\"Epoch {epoch+1}/{epochs}, Train Loss: {train_losses[-1]:.4f}, Val Loss: {val_losses[-1]:.4f}, Val Accuracy:  {100 * val_accuracy[-1]:.2f}%\")\n",
        "\n",
        "    return train_losses, val_losses, val_accuracy"
      ],
      "metadata": {
        "id": "wlfvEuSFUg5T"
      },
      "execution_count": 23,
      "outputs": []
    },
    {
      "cell_type": "code",
      "source": [
        "# Hyperparameters\n",
        "num_epochs = 5\n",
        "learning_rate = 0.001\n",
        "\n",
        "model = CNN().to(device)\n",
        "criterion = nn.CrossEntropyLoss()\n",
        "optimizer = optim.Adam(model.parameters(), lr=learning_rate)\n",
        "\n",
        "# Train without augmentation\n",
        "train_losses, val_losses, val_accuracy = train_model(model, criterion, optimizer, train_loader, test_loader, epochs=5)"
      ],
      "metadata": {
        "colab": {
          "base_uri": "https://localhost:8080/"
        },
        "id": "wf9MLdibUOSQ",
        "outputId": "3c505227-057b-4706-8c2d-c337881878de"
      },
      "execution_count": 25,
      "outputs": [
        {
          "output_type": "stream",
          "name": "stdout",
          "text": [
            "Epoch 1/5, Train Loss: 1.4021, Val Loss: 1.1139, Val Accuracy:  60.63%\n",
            "Epoch 2/5, Train Loss: 0.9770, Val Loss: 0.9407, Val Accuracy:  66.80%\n",
            "Epoch 3/5, Train Loss: 0.7816, Val Loss: 0.8452, Val Accuracy:  70.88%\n",
            "Epoch 4/5, Train Loss: 0.6198, Val Loss: 0.8257, Val Accuracy:  71.72%\n",
            "Epoch 5/5, Train Loss: 0.4735, Val Loss: 0.8207, Val Accuracy:  73.00%\n"
          ]
        }
      ]
    },
    {
      "cell_type": "markdown",
      "source": [
        "## Data Agumentation"
      ],
      "metadata": {
        "id": "1JcISXl-JfnC"
      }
    },
    {
      "cell_type": "code",
      "source": [
        "# import torchvision.transforms as transforms\n",
        "\n",
        "transform_with_aug = transforms.Compose([\n",
        "    transforms.RandomHorizontalFlip(),\n",
        "    transforms.RandomRotation(15),\n",
        "    transforms.ColorJitter(brightness=0.2, contrast=0.2, saturation=0.2),\n",
        "    transforms.ToTensor(),\n",
        "    transforms.Normalize(mean=[0.5, 0.5, 0.5], std=[0.5, 0.5, 0.5])\n",
        "])\n",
        "\n",
        "train_dataset_aug = torchvision.datasets.CIFAR10(root='./data', train=True, download=True, transform=transform_with_aug)\n",
        "train_loader_aug = DataLoader(train_dataset_aug, batch_size=32, shuffle=True)\n",
        "\n",
        "model_aug = CNN().to(device)\n",
        "criterion = nn.CrossEntropyLoss()\n",
        "optimizer = optim.Adam(model_aug.parameters(), lr=learning_rate)\n",
        "\n",
        "train_losses, val_losses, val_accuracy = train_model(model_aug, criterion, optimizer, train_loader_aug, test_loader, epochs=5)"
      ],
      "metadata": {
        "colab": {
          "base_uri": "https://localhost:8080/"
        },
        "id": "8761XQDRJXhZ",
        "outputId": "2efd3230-894b-44a2-b8ce-51e25355ecdd"
      },
      "execution_count": 30,
      "outputs": [
        {
          "output_type": "stream",
          "name": "stdout",
          "text": [
            "Epoch 1/5, Train Loss: 1.3793, Val Loss: 1.0729, Val Accuracy:  62.02%\n",
            "Epoch 2/5, Train Loss: 1.0348, Val Loss: 0.9177, Val Accuracy:  67.62%\n",
            "Epoch 3/5, Train Loss: 0.8980, Val Loss: 0.8418, Val Accuracy:  70.72%\n",
            "Epoch 4/5, Train Loss: 0.8130, Val Loss: 0.7991, Val Accuracy:  73.11%\n",
            "Epoch 5/5, Train Loss: 0.7507, Val Loss: 0.7364, Val Accuracy:  74.54%\n"
          ]
        }
      ]
    }
  ]
}