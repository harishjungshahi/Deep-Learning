{
  "nbformat": 4,
  "nbformat_minor": 0,
  "metadata": {
    "colab": {
      "provenance": [],
      "authorship_tag": "ABX9TyOYUf4+PBK3SIhgQLJ4POkq",
      "include_colab_link": true
    },
    "kernelspec": {
      "name": "python3",
      "display_name": "Python 3"
    },
    "language_info": {
      "name": "python"
    }
  },
  "cells": [
    {
      "cell_type": "markdown",
      "metadata": {
        "id": "view-in-github",
        "colab_type": "text"
      },
      "source": [
        "<a href=\"https://colab.research.google.com/github/harishjungshahi/Deep-Learning/blob/main/CIFAR10_Classification.ipynb\" target=\"_parent\"><img src=\"https://colab.research.google.com/assets/colab-badge.svg\" alt=\"Open In Colab\"/></a>"
      ]
    },
    {
      "cell_type": "markdown",
      "source": [
        "## Harish Practise : CIFAR10 Classification"
      ],
      "metadata": {
        "id": "mg9ssVk-X6vr"
      }
    },
    {
      "cell_type": "code",
      "execution_count": 14,
      "metadata": {
        "id": "iDWq81ABSd3L"
      },
      "outputs": [],
      "source": [
        "# Importing Libraries\n",
        "import torch\n",
        "import torch.nn as nn\n",
        "import torch.optim as optim\n",
        "import torchvision\n",
        "import torchvision.transforms as transforms\n",
        "from torch.utils.data import DataLoader\n",
        "from matplotlib import pyplot as plt\n",
        "import numpy as np"
      ]
    },
    {
      "cell_type": "code",
      "source": [
        "# Device Configuration\n",
        "device = torch.device('cuda' if torch.cuda.is_available() else 'cpu')\n",
        "device"
      ],
      "metadata": {
        "colab": {
          "base_uri": "https://localhost:8080/"
        },
        "id": "O3GHqFmDYsSp",
        "outputId": "badb8181-a601-47ad-8b3a-2aa4641ab5a9"
      },
      "execution_count": 15,
      "outputs": [
        {
          "output_type": "execute_result",
          "data": {
            "text/plain": [
              "device(type='cpu')"
            ]
          },
          "metadata": {},
          "execution_count": 15
        }
      ]
    },
    {
      "cell_type": "markdown",
      "source": [
        "## Data Load"
      ],
      "metadata": {
        "id": "RnKCi78DZAx-"
      }
    },
    {
      "cell_type": "code",
      "source": [
        "# Transformations\n",
        "transform = transforms.Compose([\n",
        "    transforms.ToTensor(),\n",
        "    transforms.Normalize((0.5,0.5,0.5),(0.5,0.5,0.5))\n",
        "    ])\n",
        "\n",
        "# CIFAR -10 DATASET\n",
        "train_dataset = torchvision.datasets.CIFAR10(root='./data', train=True, download=True, transform=transform)\n",
        "test_dataset = torchvision.datasets.CIFAR10(root='./data', train=False, download=True, transform=transform)"
      ],
      "metadata": {
        "id": "UPNPs8myZC5G"
      },
      "execution_count": 16,
      "outputs": []
    },
    {
      "cell_type": "code",
      "source": [
        "len(train_dataset), len(test_dataset)"
      ],
      "metadata": {
        "colab": {
          "base_uri": "https://localhost:8080/"
        },
        "id": "CEaTNsTwaYij",
        "outputId": "bd1b5a3a-7c12-4df2-b145-8c19124da23d"
      },
      "execution_count": 18,
      "outputs": [
        {
          "output_type": "execute_result",
          "data": {
            "text/plain": [
              "(50000, 10000)"
            ]
          },
          "metadata": {},
          "execution_count": 18
        }
      ]
    },
    {
      "cell_type": "code",
      "source": [
        "batch_size = 100\n",
        "\n",
        "#Data Loader\n",
        "train_loader = DataLoader(dataset=train_dataset, batch_size=batch_size, shuffle=True)\n",
        "test_loader = DataLoader(dataset=test_dataset, batch_size=batch_size, shuffle=True)"
      ],
      "metadata": {
        "id": "9-rJdbXyalw7"
      },
      "execution_count": 19,
      "outputs": []
    },
    {
      "cell_type": "markdown",
      "source": [
        "# Visualize a Few Images"
      ],
      "metadata": {
        "id": "U30RN80xb_7g"
      }
    },
    {
      "cell_type": "code",
      "source": [
        "for i, (images,labels) in enumerate(train_loader):\n",
        "  print(images.shape)\n",
        "  print(labels.shape)\n",
        "  break"
      ],
      "metadata": {
        "colab": {
          "base_uri": "https://localhost:8080/"
        },
        "id": "rYBSgRzobqSt",
        "outputId": "b63a2499-d2ab-46c0-853c-e18b53f908fe"
      },
      "execution_count": 20,
      "outputs": [
        {
          "output_type": "stream",
          "name": "stdout",
          "text": [
            "torch.Size([100, 3, 32, 32])\n",
            "torch.Size([100])\n"
          ]
        }
      ]
    },
    {
      "cell_type": "code",
      "source": [
        "def imshow(img):\n",
        "  img = img/2 + 0.5 #unnormalize\n",
        "  npimg = img.numpy()\n",
        "  plt.imshow(np.transpose(npimg,(1,2,0)))\n",
        "  plt.show()\n",
        "\n",
        "#show images\n",
        "imshow(torchvision.utils.make_grid(images[:8]))"
      ],
      "metadata": {
        "colab": {
          "base_uri": "https://localhost:8080/",
          "height": 130
        },
        "id": "tO4gU08DceMz",
        "outputId": "1997a3cb-d2e7-405d-e8ad-12f73c00f501"
      },
      "execution_count": 21,
      "outputs": [
        {
          "output_type": "display_data",
          "data": {
            "text/plain": [
              "<Figure size 640x480 with 1 Axes>"
            ],
            "image/png": "[encoded data removed]"
          },
          "metadata": {}
        }
      ]
    },
    {
      "cell_type": "code",
      "source": [
        "labels[:8]"
      ],
      "metadata": {
        "colab": {
          "base_uri": "https://localhost:8080/"
        },
        "id": "iQCRcM2LeBx2",
        "outputId": "7e8ffd4f-e7d8-4f05-e8b3-1cc49e6a2841"
      },
      "execution_count": 22,
      "outputs": [
        {
          "output_type": "execute_result",
          "data": {
            "text/plain": [
              "tensor([2, 3, 1, 6, 4, 8, 8, 0])"
            ]
          },
          "metadata": {},
          "execution_count": 22
        }
      ]
    },
    {
      "cell_type": "code",
      "source": [
        "classes = ('plane','car','bird','cat','deer','dog','frog','horse','ship','truck')"
      ],
      "metadata": {
        "id": "YmPN9OkTeGr0"
      },
      "execution_count": 23,
      "outputs": []
    },
    {
      "cell_type": "code",
      "source": [
        "[classes[i] for i in labels[:8]]"
      ],
      "metadata": {
        "colab": {
          "base_uri": "https://localhost:8080/"
        },
        "id": "Nqu2r1BfeaIB",
        "outputId": "b49e8b36-05f8-411d-986f-5b9e5cfe8a57"
      },
      "execution_count": 24,
      "outputs": [
        {
          "output_type": "execute_result",
          "data": {
            "text/plain": [
              "['bird', 'cat', 'car', 'frog', 'deer', 'ship', 'ship', 'plane']"
            ]
          },
          "metadata": {},
          "execution_count": 24
        }
      ]
    },
    {
      "cell_type": "markdown",
      "source": [
        "## Train a Neural Network"
      ],
      "metadata": {
        "id": "Qc_xKYGJe6yk"
      }
    },
    {
      "cell_type": "code",
      "source": [
        "class CNN(nn.Module):\n",
        "    def __init__(self):\n",
        "        super().__init__()\n",
        "        self.network = nn.Sequential(\n",
        "            nn.Conv2d(3, 32, kernel_size=(3,3), padding='same'),  # Output: (32, 32, 32)\n",
        "            nn.ReLU(),\n",
        "            nn.MaxPool2d(kernel_size=(2,2), stride=(2,2)),        # Output: (32, 16, 16)\n",
        "\n",
        "            nn.Conv2d(32, 64, kernel_size=(3,3)),             # Output: (64, 14, 14)\n",
        "            nn.ReLU(),\n",
        "            nn.MaxPool2d(kernel_size=(2,2), stride=(2,2))         # Output: (64, 7, 7)\n",
        "        )\n",
        "        self.fc_layers = nn.Sequential(\n",
        "            nn.Flatten(),                                # Flatten to (64 * 7 * 7 = 3136)\n",
        "            nn.Linear(64 * 7 * 7, 600),                  # Corrected input size\n",
        "            nn.ReLU(),\n",
        "            nn.Linear(600, 120),\n",
        "            nn.ReLU(),\n",
        "            nn.Linear(120, 10)\n",
        "        )\n",
        "\n",
        "    def forward(self, x):\n",
        "        x = self.network(x)\n",
        "        x = self.fc_layers(x)\n",
        "        return x"
      ],
      "metadata": {
        "id": "VN0jflFBe9zC"
      },
      "execution_count": 33,
      "outputs": []
    },
    {
      "cell_type": "code",
      "source": [
        "model = CNN()\n",
        "dummy_input = torch.randn(1, 3, 32, 32)  # Single example with CIFAR-10 dimensions\n",
        "output = model(dummy_input)\n",
        "print(\"Output shape:\", output.shape)  # Should be [1, 10]"
      ],
      "metadata": {
        "colab": {
          "base_uri": "https://localhost:8080/"
        },
        "id": "SV4Gk9sctmmM",
        "outputId": "bc84b23b-9570-4970-e403-b5f663d20ad2"
      },
      "execution_count": 34,
      "outputs": [
        {
          "output_type": "stream",
          "name": "stdout",
          "text": [
            "Output shape: torch.Size([1, 10])\n"
          ]
        }
      ]
    },
    {
      "cell_type": "code",
      "source": [
        "# Hyperparameters\n",
        "num_epochs = 10\n",
        "learning_rate = 0.001\n",
        "\n",
        "model = CNN().to(device)\n",
        "criterion = nn.CrossEntropyLoss()\n",
        "optimizer = optim.Adam(model.parameters(), lr=learning_rate)"
      ],
      "metadata": {
        "id": "5Jkez8FHsjcY"
      },
      "execution_count": 35,
      "outputs": []
    },
    {
      "cell_type": "code",
      "source": [
        "# Training loop\n",
        "total_step = len(train_loader)\n",
        "for epoch in range(num_epochs):\n",
        "    for i, (images, labels) in enumerate(train_loader):\n",
        "        images = images.to(device)\n",
        "        labels = labels.to(device)\n",
        "\n",
        "        # Forward pass\n",
        "        outputs = model(images)\n",
        "        loss = criterion(outputs, labels)\n",
        "\n",
        "        # Backward and optimize\n",
        "        optimizer.zero_grad()\n",
        "        loss.backward()\n",
        "        optimizer.step()\n",
        "\n",
        "        if (i+1) % 100 == 0:\n",
        "            print(f\"Epoch [{epoch+1}/{num_epochs}], Step [{i+1}/{total_step}], Loss: {loss.item():.4f}\")\n",
        "\n",
        "# Testing the model\n",
        "model.eval()\n",
        "with torch.no_grad():\n",
        "    correct = 0\n",
        "    total = 0\n",
        "    for images, labels in test_loader:\n",
        "        images = images.to(device)\n",
        "        labels = labels.to(device)\n",
        "        outputs = model(images)\n",
        "        _, predicted = torch.max(outputs.data, 1)\n",
        "        total += labels.size(0)\n",
        "        correct += (predicted == labels).sum().item()\n",
        "\n",
        "    print(f\"Accuracy of the model on the 10000 test images: {100 * correct / total:.2f}%\")"
      ],
      "metadata": {
        "colab": {
          "base_uri": "https://localhost:8080/"
        },
        "id": "BgaDgU-vywb9",
        "outputId": "1ccaddb9-f9d1-435d-bcba-5368041cd9e9"
      },
      "execution_count": 38,
      "outputs": [
        {
          "output_type": "stream",
          "name": "stdout",
          "text": [
            "Epoch [1/10], Step [100/500], Loss: 0.0194\n",
            "Epoch [1/10], Step [200/500], Loss: 0.0554\n",
            "Epoch [1/10], Step [300/500], Loss: 0.0907\n",
            "Epoch [1/10], Step [400/500], Loss: 0.0671\n",
            "Epoch [1/10], Step [500/500], Loss: 0.0411\n",
            "Epoch [2/10], Step [100/500], Loss: 0.0085\n",
            "Epoch [2/10], Step [200/500], Loss: 0.0860\n",
            "Epoch [2/10], Step [300/500], Loss: 0.0827\n",
            "Epoch [2/10], Step [400/500], Loss: 0.0732\n",
            "Epoch [2/10], Step [500/500], Loss: 0.1186\n",
            "Epoch [3/10], Step [100/500], Loss: 0.0191\n",
            "Epoch [3/10], Step [200/500], Loss: 0.0207\n",
            "Epoch [3/10], Step [300/500], Loss: 0.0446\n",
            "Epoch [3/10], Step [400/500], Loss: 0.0272\n",
            "Epoch [3/10], Step [500/500], Loss: 0.0201\n",
            "Epoch [4/10], Step [100/500], Loss: 0.0155\n",
            "Epoch [4/10], Step [200/500], Loss: 0.0485\n",
            "Epoch [4/10], Step [300/500], Loss: 0.0657\n",
            "Epoch [4/10], Step [400/500], Loss: 0.0497\n",
            "Epoch [4/10], Step [500/500], Loss: 0.1404\n",
            "Epoch [5/10], Step [100/500], Loss: 0.0308\n",
            "Epoch [5/10], Step [200/500], Loss: 0.1108\n",
            "Epoch [5/10], Step [300/500], Loss: 0.0662\n",
            "Epoch [5/10], Step [400/500], Loss: 0.0900\n",
            "Epoch [5/10], Step [500/500], Loss: 0.1276\n",
            "Epoch [6/10], Step [100/500], Loss: 0.0489\n",
            "Epoch [6/10], Step [200/500], Loss: 0.0510\n",
            "Epoch [6/10], Step [300/500], Loss: 0.0296\n",
            "Epoch [6/10], Step [400/500], Loss: 0.1250\n",
            "Epoch [6/10], Step [500/500], Loss: 0.0229\n",
            "Epoch [7/10], Step [100/500], Loss: 0.0056\n",
            "Epoch [7/10], Step [200/500], Loss: 0.0225\n",
            "Epoch [7/10], Step [300/500], Loss: 0.0467\n",
            "Epoch [7/10], Step [400/500], Loss: 0.0546\n",
            "Epoch [7/10], Step [500/500], Loss: 0.0362\n",
            "Epoch [8/10], Step [100/500], Loss: 0.0234\n",
            "Epoch [8/10], Step [200/500], Loss: 0.0148\n",
            "Epoch [8/10], Step [300/500], Loss: 0.0401\n",
            "Epoch [8/10], Step [400/500], Loss: 0.0269\n",
            "Epoch [8/10], Step [500/500], Loss: 0.0151\n",
            "Epoch [9/10], Step [100/500], Loss: 0.0792\n",
            "Epoch [9/10], Step [200/500], Loss: 0.0064\n",
            "Epoch [9/10], Step [300/500], Loss: 0.1382\n",
            "Epoch [9/10], Step [400/500], Loss: 0.0716\n",
            "Epoch [9/10], Step [500/500], Loss: 0.0736\n",
            "Epoch [10/10], Step [100/500], Loss: 0.0696\n",
            "Epoch [10/10], Step [200/500], Loss: 0.0077\n",
            "Epoch [10/10], Step [300/500], Loss: 0.0169\n",
            "Epoch [10/10], Step [400/500], Loss: 0.0148\n",
            "Epoch [10/10], Step [500/500], Loss: 0.1583\n",
            "Accuracy of the model on the 10000 test images: 70.65%\n"
          ]
        }
      ]
    }
  ]
}