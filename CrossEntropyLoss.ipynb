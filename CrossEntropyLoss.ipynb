{
  "nbformat": 4,
  "nbformat_minor": 0,
  "metadata": {
    "colab": {
      "provenance": [],
      "authorship_tag": "ABX9TyP2QggSU9yXRIYXCwp9RL7Y",
      "include_colab_link": true
    },
    "kernelspec": {
      "name": "python3",
      "display_name": "Python 3"
    },
    "language_info": {
      "name": "python"
    }
  },
  "cells": [
    {
      "cell_type": "markdown",
      "metadata": {
        "id": "view-in-github",
        "colab_type": "text"
      },
      "source": [
        "<a href=\"https://colab.research.google.com/github/harishjungshahi/Deep-Learning/blob/main/CrossEntropyLoss.ipynb\" target=\"_parent\"><img src=\"https://colab.research.google.com/assets/colab-badge.svg\" alt=\"Open In Colab\"/></a>"
      ]
    },
    {
      "cell_type": "code",
      "execution_count": 1,
      "metadata": {
        "id": "OoOoqfdAg986"
      },
      "outputs": [],
      "source": [
        "import torch\n",
        "import torch.nn as nn"
      ]
    },
    {
      "cell_type": "code",
      "source": [
        "loss_func = nn.CrossEntropyLoss()\n",
        "\n",
        "y_pred = torch.tensor([[0.1,0.2,0.7]]) #dog[1] , cat [1], kolala[2]\n",
        "y_true = torch.tensor([2])\n",
        "\n",
        "loss = loss_func(y_pred,y_true)\n",
        "print(f\"Cross Entropy Loss: {loss.item(): 0.2f}\")"
      ],
      "metadata": {
        "colab": {
          "base_uri": "https://localhost:8080/"
        },
        "id": "s-Z6VcaDk0YU",
        "outputId": "a0a0c979-42c1-4982-85cf-aeb8e1442186"
      },
      "execution_count": 2,
      "outputs": [
        {
          "output_type": "stream",
          "name": "stdout",
          "text": [
            "Cross Entropy Loss:  0.77\n"
          ]
        }
      ]
    },
    {
      "cell_type": "code",
      "source": [
        "loss_func = nn.CrossEntropyLoss()\n",
        "\n",
        "y_pred = torch.tensor([[0.7,0.2,0.1]]) #dog[1] , cat [1], kolala[2]\n",
        "y_true = torch.tensor([2])\n",
        "\n",
        "loss = loss_func(y_pred,y_true)\n",
        "print(f\"Cross Entropy Loss: {loss.item(): 0.2f}\")"
      ],
      "metadata": {
        "colab": {
          "base_uri": "https://localhost:8080/"
        },
        "id": "rBnlqn6YmWgU",
        "outputId": "2181abd5-2d2e-41dc-ca40-e46c967127ae"
      },
      "execution_count": 3,
      "outputs": [
        {
          "output_type": "stream",
          "name": "stdout",
          "text": [
            "Cross Entropy Loss:  1.37\n"
          ]
        }
      ]
    }
  ]
}