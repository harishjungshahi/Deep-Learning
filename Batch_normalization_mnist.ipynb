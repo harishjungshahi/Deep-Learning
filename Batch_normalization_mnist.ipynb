{
  "nbformat": 4,
  "nbformat_minor": 0,
  "metadata": {
    "colab": {
      "provenance": [],
      "authorship_tag": "ABX9TyPjaMEf2NLv3N+DeEU+mCzO",
      "include_colab_link": true
    },
    "kernelspec": {
      "name": "python3",
      "display_name": "Python 3"
    },
    "language_info": {
      "name": "python"
    }
  },
  "cells": [
    {
      "cell_type": "markdown",
      "metadata": {
        "id": "view-in-github",
        "colab_type": "text"
      },
      "source": [
        "<a href=\"https://colab.research.google.com/github/harishjungshahi/Deep-Learning/blob/main/Batch_normalization_mnist.ipynb\" target=\"_parent\"><img src=\"https://colab.research.google.com/assets/colab-badge.svg\" alt=\"Open In Colab\"/></a>"
      ]
    },
    {
      "cell_type": "code",
      "execution_count": 5,
      "metadata": {
        "id": "f_mNwP_dgSKX"
      },
      "outputs": [],
      "source": [
        "import torch\n",
        "import torch.nn as nn\n",
        "import torch.optim as optim\n",
        "from torch.utils.data import DataLoader, Subset\n",
        "from torchvision import datasets, transforms\n",
        "from sklearn.metrics import accuracy_score\n",
        "from matplotlib import pyplot as plt\n",
        "\n",
        "#Device Configuration\n",
        "device = torch.device(\"cuda\" if torch.cuda.is_available() else \"cpu\")"
      ]
    },
    {
      "cell_type": "markdown",
      "source": [
        "# Load and Normalize the Mnist Data"
      ],
      "metadata": {
        "id": "-7pFbnOJ2Xnw"
      }
    },
    {
      "cell_type": "code",
      "source": [
        "transform = transforms.Compose([transforms.ToTensor(), transforms.Normalize((0.5), (0.5))])\n",
        "\n",
        "full_train_dataset = datasets.MNIST(root=\"data\", train=True, download=True, transform=transform)\n",
        "full_test_dataset = datasets.MNIST(root=\"data\", train=True, download=True, transform=transform)\n",
        "\n",
        "train_subset = Subset(full_train_dataset, torch.arange(5000))\n",
        "test_subset = Subset(full_test_dataset, torch.arange(1000))\n",
        "\n",
        "train_loader = DataLoader(train_subset, batch_size=60, shuffle=True)\n",
        "test_loader = DataLoader(test_subset, batch_size=60, shuffle=True)"
      ],
      "metadata": {
        "id": "Mb86upJmhglv"
      },
      "execution_count": 6,
      "outputs": []
    },
    {
      "cell_type": "markdown",
      "source": [
        "# Train a Neural Network without Batch Normalization"
      ],
      "metadata": {
        "id": "9gcRgdtm4dHr"
      }
    },
    {
      "cell_type": "code",
      "source": [
        "# Define the model\n",
        "class MNISTClassifier(nn.Module):\n",
        "    def __init__(self):\n",
        "        super().__init__()\n",
        "        self.network = nn.Sequential(\n",
        "            nn.Flatten(),\n",
        "            nn.Linear(28*28, 128),\n",
        "            nn.ReLU(),\n",
        "            nn.Linear(128, 64),\n",
        "            nn.ReLU(),\n",
        "            nn.Linear(64, 10)\n",
        "        )\n",
        "\n",
        "    def forward(self, x):\n",
        "        return self.network(x)"
      ],
      "metadata": {
        "id": "hBZXgMzwEZuA"
      },
      "execution_count": 8,
      "outputs": []
    },
    {
      "cell_type": "code",
      "source": [
        "def train_model(model, train_loader, test_loader, optimizer, criterion, epochs=5):\n",
        "\n",
        "    val_accuracies = []\n",
        "\n",
        "    for epoch in range(epochs):\n",
        "        # Training\n",
        "        model.train()\n",
        "        for batch, (images, labels) in enumerate(train_loader):\n",
        "            images = images.to(device)\n",
        "            labels = labels.to(device)\n",
        "            optimizer.zero_grad()          # Zero the gradients\n",
        "            outputs = model(images)        # Forward pass\n",
        "            loss = criterion(outputs, labels) # Compute loss\n",
        "            loss.backward()                # Backpropagate\n",
        "            optimizer.step()               # Update weights\n",
        "\n",
        "            if batch%100 == 0:\n",
        "                print(f\"Epoch {epoch}, Batch: {batch}, Train Loss: {loss.item():0.2f}\")\n",
        "\n",
        "\n",
        "        # Evaluation\n",
        "        model.eval()\n",
        "        y_pred, y_true = [], []\n",
        "        with torch.no_grad():\n",
        "            for inputs, labels in test_loader:\n",
        "                inputs, labels = inputs.to(device), labels.to(device)\n",
        "                outputs = model(inputs)\n",
        "                loss = criterion(outputs, labels)\n",
        "                _, predicted = torch.max(outputs, 1)\n",
        "                y_pred.extend(predicted.cpu().numpy())\n",
        "                y_true.extend(labels.cpu().numpy())\n",
        "        val_accuracy = accuracy_score(y_true, y_pred)\n",
        "        val_accuracies.append(val_accuracy)\n",
        "\n",
        "    return val_accuracies"
      ],
      "metadata": {
        "id": "_OMD6dFIElhv"
      },
      "execution_count": 9,
      "outputs": []
    },
    {
      "cell_type": "code",
      "source": [
        "# Instantiate the model, define loss function and optimizer\n",
        "model = MNISTClassifier().to(device)\n",
        "criterion = nn.CrossEntropyLoss()\n",
        "optimizer = optim.Adam(model.parameters(), lr=0.001)\n",
        "\n",
        "val_accuracies_no_bn = train_model(model, train_loader, test_loader, optimizer, criterion, 10)"
      ],
      "metadata": {
        "colab": {
          "base_uri": "https://localhost:8080/"
        },
        "id": "vEwdUKB3EnJo",
        "outputId": "65145aa7-5fbb-461d-f505-a15a89b6f934"
      },
      "execution_count": 10,
      "outputs": [
        {
          "output_type": "stream",
          "name": "stdout",
          "text": [
            "Epoch 0, Batch: 0, Train Loss: 2.29\n",
            "Epoch 1, Batch: 0, Train Loss: 0.77\n",
            "Epoch 2, Batch: 0, Train Loss: 0.42\n",
            "Epoch 3, Batch: 0, Train Loss: 0.39\n",
            "Epoch 4, Batch: 0, Train Loss: 0.24\n",
            "Epoch 5, Batch: 0, Train Loss: 0.27\n",
            "Epoch 6, Batch: 0, Train Loss: 0.09\n",
            "Epoch 7, Batch: 0, Train Loss: 0.20\n",
            "Epoch 8, Batch: 0, Train Loss: 0.17\n",
            "Epoch 9, Batch: 0, Train Loss: 0.07\n"
          ]
        }
      ]
    },
    {
      "cell_type": "code",
      "source": [
        "print(val_accuracies_no_bn)"
      ],
      "metadata": {
        "colab": {
          "base_uri": "https://localhost:8080/"
        },
        "id": "uvv9ahrcEsan",
        "outputId": "1540a934-2a7c-4df4-d4ce-43c50d613324"
      },
      "execution_count": 11,
      "outputs": [
        {
          "output_type": "stream",
          "name": "stdout",
          "text": [
            "[0.837, 0.871, 0.89, 0.909, 0.918, 0.906, 0.926, 0.933, 0.942, 0.939]\n"
          ]
        }
      ]
    },
    {
      "cell_type": "markdown",
      "source": [
        "### With Batch Normalization"
      ],
      "metadata": {
        "id": "KMNo3mVJEx6j"
      }
    },
    {
      "cell_type": "code",
      "source": [
        "# Define the model\n",
        "class MNISTClassifierWithBN(nn.Module):\n",
        "    def __init__(self):\n",
        "        super().__init__()\n",
        "        self.network = nn.Sequential(\n",
        "            nn.Flatten(),\n",
        "            nn.Linear(28*28, 128),\n",
        "            nn.BatchNorm1d(128),\n",
        "            nn.ReLU(),\n",
        "            nn.Linear(128, 64),\n",
        "            nn.BatchNorm1d(64),\n",
        "            nn.ReLU(),\n",
        "            nn.Linear(64, 10)\n",
        "        )\n",
        "\n",
        "    def forward(self, x):\n",
        "        return self.network(x)"
      ],
      "metadata": {
        "id": "OkhAXpctExo1"
      },
      "execution_count": 13,
      "outputs": []
    },
    {
      "cell_type": "code",
      "source": [
        "# Instantiate the model, define loss function and optimizer\n",
        "model_with_bn = MNISTClassifierWithBN().to(device)\n",
        "criterion_with_bn = nn.CrossEntropyLoss()\n",
        "optimizer_with_bn = optim.Adam(model_with_bn.parameters(), lr=0.001)\n",
        "\n",
        "val_accuracies_with_bn = train_model(model_with_bn, train_loader, test_loader, optimizer_with_bn, criterion_with_bn, 10)"
      ],
      "metadata": {
        "colab": {
          "base_uri": "https://localhost:8080/"
        },
        "id": "7mAXxftlEtof",
        "outputId": "a3e9c2a5-f49a-41b9-9282-44d6531f9506"
      },
      "execution_count": 14,
      "outputs": [
        {
          "output_type": "stream",
          "name": "stdout",
          "text": [
            "Epoch 0, Batch: 0, Train Loss: 2.31\n",
            "Epoch 1, Batch: 0, Train Loss: 0.30\n",
            "Epoch 2, Batch: 0, Train Loss: 0.17\n",
            "Epoch 3, Batch: 0, Train Loss: 0.15\n",
            "Epoch 4, Batch: 0, Train Loss: 0.14\n",
            "Epoch 5, Batch: 0, Train Loss: 0.05\n",
            "Epoch 6, Batch: 0, Train Loss: 0.03\n",
            "Epoch 7, Batch: 0, Train Loss: 0.02\n",
            "Epoch 8, Batch: 0, Train Loss: 0.01\n",
            "Epoch 9, Batch: 0, Train Loss: 0.01\n"
          ]
        }
      ]
    },
    {
      "cell_type": "code",
      "source": [
        "val_accuracies_with_bn"
      ],
      "metadata": {
        "colab": {
          "base_uri": "https://localhost:8080/"
        },
        "id": "_BRXwZLGE548",
        "outputId": "ef419b9d-f5e3-4b07-ba3d-3d90ed574871"
      },
      "execution_count": 15,
      "outputs": [
        {
          "output_type": "execute_result",
          "data": {
            "text/plain": [
              "[0.918, 0.958, 0.968, 0.988, 0.982, 0.993, 1.0, 0.999, 0.999, 0.994]"
            ]
          },
          "metadata": {},
          "execution_count": 15
        }
      ]
    },
    {
      "cell_type": "code",
      "source": [
        "plt.plot(val_accuracies_no_bn, label=\"Validation Accuracy (No Batch)\")\n",
        "plt.plot(val_accuracies_with_bn, label=\"Validation Accuracy (With Batch)\")\n",
        "plt.legend()\n",
        "plt.show()"
      ],
      "metadata": {
        "colab": {
          "base_uri": "https://localhost:8080/",
          "height": 430
        },
        "id": "vF6eYwuoE5-E",
        "outputId": "a9c6e505-f676-4186-9b68-880328006f08"
      },
      "execution_count": 16,
      "outputs": [
        {
          "output_type": "display_data",
          "data": {
            "text/plain": [
              "<Figure size 640x480 with 1 Axes>"
            ],
            "image/png": "[encoded data removed]"
          },
          "metadata": {}
        }
      ]
    }
  ]
}