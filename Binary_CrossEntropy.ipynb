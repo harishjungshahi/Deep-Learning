{
  "nbformat": 4,
  "nbformat_minor": 0,
  "metadata": {
    "colab": {
      "provenance": [],
      "authorship_tag": "ABX9TyNsuVg3ZJNEFXbNCTd0/Mha",
      "include_colab_link": true
    },
    "kernelspec": {
      "name": "python3",
      "display_name": "Python 3"
    },
    "language_info": {
      "name": "python"
    }
  },
  "cells": [
    {
      "cell_type": "markdown",
      "metadata": {
        "id": "view-in-github",
        "colab_type": "text"
      },
      "source": [
        "<a href=\"https://colab.research.google.com/github/harishjungshahi/Deep-Learning/blob/main/Binary_CrossEntropy.ipynb\" target=\"_parent\"><img src=\"https://colab.research.google.com/assets/colab-badge.svg\" alt=\"Open In Colab\"/></a>"
      ]
    },
    {
      "cell_type": "code",
      "execution_count": 1,
      "metadata": {
        "id": "-WpjkP_iQgtS"
      },
      "outputs": [],
      "source": [
        "import torch\n",
        "import torch.nn as nn"
      ]
    },
    {
      "cell_type": "code",
      "source": [
        "criterion = nn.MSELoss()\n",
        "\n",
        "y_pred = torch.tensor([0.9])\n",
        "y_true = torch.tensor([0], dtype=torch.float32)\n",
        "\n",
        "loss = criterion(y_pred, y_true)\n",
        "print(f\"MSE Loss: {loss.item():0.2f}\")"
      ],
      "metadata": {
        "colab": {
          "base_uri": "https://localhost:8080/"
        },
        "id": "a-21nmyRQ79e",
        "outputId": "7cd23b20-d1b1-415b-bf5a-5345f67d8542"
      },
      "execution_count": 4,
      "outputs": [
        {
          "output_type": "stream",
          "name": "stdout",
          "text": [
            "MSE Loss: 0.81\n"
          ]
        }
      ]
    },
    {
      "cell_type": "code",
      "source": [
        "criterion = nn.BCELoss() #Binary Cross Entropy Loss\n",
        "\n",
        "y_pred = torch.tensor([0.1])\n",
        "y_true = torch.tensor([0], dtype=torch.float32)\n",
        "\n",
        "loss = criterion(y_pred, y_true)\n",
        "print(f\"BCE Loss: {loss.item():0.2f}\")"
      ],
      "metadata": {
        "colab": {
          "base_uri": "https://localhost:8080/"
        },
        "id": "FhHgC5FWRsGg",
        "outputId": "cf2e71a0-e66c-4084-b210-a46e9848f845"
      },
      "execution_count": 6,
      "outputs": [
        {
          "output_type": "stream",
          "name": "stdout",
          "text": [
            "BCE Loss: 0.11\n"
          ]
        }
      ]
    },
    {
      "cell_type": "code",
      "source": [
        "criterion = nn.BCELoss() # Binary Cross Entropy Loss\n",
        "\n",
        "y_pred = torch.tensor([0.8, 0.2, 0.8, 0.9])\n",
        "y_true = torch.tensor([1, 0, 0, 1], dtype=torch.float)\n",
        "\n",
        "loss = criterion(y_pred, y_true)\n",
        "print(f\"Binary Cross Entropy Loss: {loss.item(): 0.2f}\")"
      ],
      "metadata": {
        "colab": {
          "base_uri": "https://localhost:8080/"
        },
        "id": "H0TBLWufSMtV",
        "outputId": "82836928-5c05-4f11-def6-df8d7f486c7e"
      },
      "execution_count": 7,
      "outputs": [
        {
          "output_type": "stream",
          "name": "stdout",
          "text": [
            "Binary Cross Entropy Loss:  0.54\n"
          ]
        }
      ]
    }
  ]
}